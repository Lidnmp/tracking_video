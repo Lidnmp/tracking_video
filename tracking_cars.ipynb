{
 "cells": [
  {
   "cell_type": "markdown",
   "id": "c9a3c6b3-aa1e-41ad-9a7d-f877d7c046d1",
   "metadata": {},
   "source": [
    "# MUSI - Image Analysis  \n",
    "\n",
    "## Project 2: Step-by-step implementation of a tracking algorithm   \n",
    "\n",
    "### **Members:** Umar Faruk Abdullahi, Raixa A. Madueño\n",
    "---"
   ]
  },
  {
   "cell_type": "markdown",
   "id": "f0e3f6fd-1206-48cb-9e39-260dd95c5b8c",
   "metadata": {},
   "source": [
    "### Establish the necessary libraries and constants"
   ]
  },
  {
   "cell_type": "code",
   "execution_count": 1,
   "id": "88a302e9-a63a-4e23-811d-60c58f7e2596",
   "metadata": {},
   "outputs": [],
   "source": [
    "#Imports\n",
    "import cv2\n",
    "import matplotlib.pyplot as plt\n",
    "import numpy as np\n",
    "#Constant\n",
    "fgbg = cv2.bgsegm.createBackgroundSubtractorMOG()"
   ]
  },
  {
   "cell_type": "markdown",
   "id": "6aea69ac-62b2-4da9-b79f-5591f89bfe7a",
   "metadata": {},
   "source": [
    "## Submethods \n",
    "---\n",
    "### Obtain contours: External contours"
   ]
  },
  {
   "cell_type": "code",
   "execution_count": 2,
   "id": "30a8ea90-540f-4b6f-b800-a612debb22be",
   "metadata": {},
   "outputs": [],
   "source": [
    "def obtain_contours(foreground_frame):\n",
    "    contours, _ = cv2.findContours(foreground_frame, cv2.RETR_EXTERNAL, cv2.CHAIN_APPROX_SIMPLE)\n",
    "    return contours"
   ]
  },
  {
   "cell_type": "markdown",
   "id": "74f438bb-8cc3-434d-a40f-45feb02b950e",
   "metadata": {},
   "source": [
    "### Manage contour boxes"
   ]
  },
  {
   "cell_type": "code",
   "execution_count": 3,
   "id": "0aa807ae-61f7-4a2a-b0ef-229afff63f34",
   "metadata": {},
   "outputs": [],
   "source": [
    "def boxes_overlap(box1, box2):\n",
    "    x1, y1, w1, h1 = box1\n",
    "    x2, y2, w2, h2 = box2\n",
    "    return not (x1 + w1 < x2 or x1 > x2 + w2 or y1 + h1 < y2 or y1 > y2 + h2)\n",
    "\n",
    "def not_exceed_max_area(box1, box2):\n",
    "    x1, y1, w1, h1 = box1\n",
    "    x2, y2, w2, h2 = box2\n",
    "    w= max(x1 + w1, x2 + w2) - x\n",
    "    h = max(y1 + h1, y2 + h2) - y\n",
    "    total_area=w*h\n",
    "    if total_area < 18000:\n",
    "        return True\n",
    "    else:\n",
    "        return False\n",
    "def merge_boxes(box1, box2):\n",
    "    x1, y1, w1, h1 = box1\n",
    "    x2, y2, w2, h2 = box2\n",
    "    x = min(x1, x2)\n",
    "    y = min(y1, y2)\n",
    "    w = max(x1 + w1, x2 + w2) - x\n",
    "    h = max(y1 + h1, y2 + h2) - y\n",
    "    return (x, y, w, h)"
   ]
  },
  {
   "cell_type": "markdown",
   "id": "38d4a1c1-47c3-4db5-a963-01a240c5103c",
   "metadata": {},
   "source": [
    "### Apply preprocess to the video \n",
    "---\n",
    "Video initialization"
   ]
  },
  {
   "cell_type": "code",
   "execution_count": 4,
   "id": "9bbd1066-ac81-439f-a016-4cc9f6bbbc78",
   "metadata": {},
   "outputs": [],
   "source": [
    "video_path=\"FroggerHighway.mp4\"\n",
    "cap = cv2.VideoCapture(video_path)\n",
    "if not cap.isOpened():\n",
    "    print(\"Error: Could not open video.\")\n",
    "    exit()"
   ]
  },
  {
   "cell_type": "code",
   "execution_count": 5,
   "id": "0b0416bf-2a6c-4152-8aca-500f03f62f8c",
   "metadata": {},
   "outputs": [],
   "source": [
    "#Reset video to the first frame\n",
    "cap.set(cv2.CAP_PROP_POS_FRAMES, 0)\n",
    "\n",
    "while True:\n",
    "    ret, frame = cap.read()\n",
    "    if not ret:\n",
    "        break\n",
    "    fgmask = fgbg.apply(frame)\n",
    "    # Kernel for morphological operations\n",
    "    kernel = cv2.getStructuringElement(cv2.MORPH_ELLIPSE, (4, 4))\n",
    "    # Apply dilation\n",
    "    fgmask = cv2.dilate(fgmask, kernel, iterations=3)\n",
    "    # Apply erosion\n",
    "    fgmask = cv2.erode(fgmask, kernel, iterations=1)\n",
    "    \n",
    "    contours=obtain_contours(fgmask)\n",
    "    filtered_contours=[]\n",
    "    boxes = []\n",
    "    for contour in contours:\n",
    "        if 1000 < cv2.contourArea(contour):\n",
    "            x, y, w, h = cv2.boundingRect(contour)\n",
    "            aspect_ratio = w / float(h)\n",
    "            \n",
    "            if aspect_ratio > 1.5:\n",
    "                boxes.append((x, y-5, w, h))\n",
    "\n",
    "    # Merge and adjust boxes\n",
    "    for box in boxes:\n",
    "        overlaps = False\n",
    "        for i, prev_box in enumerate(filtered_contours):\n",
    "            if boxes_overlap(box, prev_box) & not_exceed_max_area(box, prev_box):\n",
    "                overlaps = True\n",
    "                # Merge boxes if they overlap significantly\n",
    "                merged_box = merge_boxes(box, prev_box)\n",
    "                filtered_contours[i] = merged_box\n",
    "                break\n",
    "        if not overlaps:\n",
    "            filtered_contours.append(box)\n",
    "\n",
    "    for box in filtered_contours:\n",
    "        x, y, w, h = box\n",
    "        area=w*h\n",
    "        cv2.rectangle(frame, (x, y), (x + w, y + h), (0, 255, 0), 1)  \n",
    "        #cv2.putText(fgmask, f'Area: {area}', (x, y - 10), cv2.FONT_HERSHEY_SIMPLEX, 0.5, (0, 255, 0), 2)\n",
    "    cv2.imshow('Frame', frame)\n",
    "    if cv2.waitKey(10) & 0xFF == ord('q'):\n",
    "        break\n",
    "\n",
    "cap.release()\n",
    "cv2.destroyAllWindows()\n"
   ]
  },
  {
   "cell_type": "code",
   "execution_count": null,
   "id": "8f5c526f-65d3-4b19-912e-675ee4dfe347",
   "metadata": {},
   "outputs": [],
   "source": []
  }
 ],
 "metadata": {
  "kernelspec": {
   "display_name": "Python 3 (ipykernel)",
   "language": "python",
   "name": "python3"
  },
  "language_info": {
   "codemirror_mode": {
    "name": "ipython",
    "version": 3
   },
   "file_extension": ".py",
   "mimetype": "text/x-python",
   "name": "python",
   "nbconvert_exporter": "python",
   "pygments_lexer": "ipython3",
   "version": "3.9.20"
  }
 },
 "nbformat": 4,
 "nbformat_minor": 5
}
